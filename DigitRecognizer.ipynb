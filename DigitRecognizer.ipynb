{
 "cells": [
  {
   "cell_type": "markdown",
   "metadata": {
    "colab_type": "text",
    "id": "Ef5iSzAyRnKR"
   },
   "source": [
    "# Introduction\n",
    "\n",
    "This is my entry for Kaggle's [Digit Recognizer Competition](https://www.kaggle.com/c/digit-recognizer). \n",
    "In this challenge, I will use computer vision techniques, more specifically image classification, to build a model to recognize hand-written digits from the famous MNIST dataset. \n",
    "To help me achieve this, I will use [Dr. Ghouzam's notebook](https://www.kaggle.com/yassineghouzam/introduction-to-cnn-keras-0-997-top-6) as well as [this DataAI notebook](https://www.kaggle.com/kanncaa1/recurrent-neural-network-with-pytorch/data#INTRODUCTION) and [this DataAI notebook](https://www.kaggle.com/kanncaa1/pytorch-tutorial-for-deep-learning-lovers/code) to build a model in PyTorch to compete in this competition."
   ]
  },
  {
   "cell_type": "code",
   "execution_count": 26,
   "metadata": {
    "colab": {},
    "colab_type": "code",
    "id": "uPqyEIFbRnKT"
   },
   "outputs": [],
   "source": [
    "import pandas as pd\n",
    "import matplotlib.pyplot as plt\n",
    "import seaborn as sns\n",
    "import numpy as np\n",
    "import torch\n",
    "import torch.nn as nn\n",
    "import torchvision\n",
    "import torchvision.transforms as transforms\n",
    "\n",
    "from torch.autograd import Variable\n",
    "from sklearn.model_selection import train_test_split, cross_validate\n",
    "from PIL import Image"
   ]
  },
  {
   "cell_type": "markdown",
   "metadata": {
    "colab_type": "text",
    "id": "j4OffMY-RnKZ"
   },
   "source": [
    "# The Data\n",
    "\n",
    "Before any machine learning model can be made, it is important to effectively analyze and understand the data we are given.\n",
    "It is also imperative to know its interesting features, such as the amount of missing data and the outliers.\n",
    "Fortunately, a thorough description of the dataset is given in the contest description.\n",
    "\n",
    "I am using the MNIST dataset, described as the \"hello world\" dataset for computer vision. "
   ]
  },
  {
   "cell_type": "code",
   "execution_count": 4,
   "metadata": {
    "colab": {
     "base_uri": "https://localhost:8080/",
     "height": 50
    },
    "colab_type": "code",
    "id": "AZMT4wZhRnKa",
    "outputId": "44b66464-d0fe-44c1-f938-305a34578748"
   },
   "outputs": [
    {
     "name": "stdout",
     "output_type": "stream",
     "text": [
      "Training Set Shape: (42000, 785)\n",
      "Testing Set Shape: (28000, 784)\n"
     ]
    }
   ],
   "source": [
    "train_frame = pd.read_csv('./data/train.csv', dtype = np.float32)\n",
    "test_frame = pd.read_csv('./data/test.csv', dtype = np.float32)\n",
    "\n",
    "print('Training Set Shape:', train_frame.shape)\n",
    "print('Testing Set Shape:', test_frame.shape)"
   ]
  },
  {
   "cell_type": "code",
   "execution_count": 5,
   "metadata": {
    "colab": {
     "base_uri": "https://localhost:8080/",
     "height": 336
    },
    "colab_type": "code",
    "id": "FJlqJsJQRnKz",
    "outputId": "82f57bcd-08e6-428b-fe4c-fe5605f17861"
   },
   "outputs": [
    {
     "data": {
      "image/png": "[encoded data removed]",
      "text/plain": [
       "<Figure size 360x360 with 1 Axes>"
      ]
     },
     "metadata": {
      "needs_background": "light"
     },
     "output_type": "display_data"
    }
   ],
   "source": [
    "fig, ax = plt.subplots(figsize = (5, 5))\n",
    "ax.set_title('What one example looks like')\n",
    "plt.imshow(train_frame.iloc[8994][1:].values.reshape(28, 28))\n",
    "plt.show()"
   ]
  },
  {
   "cell_type": "markdown",
   "metadata": {
    "colab_type": "text",
    "id": "Lvneg4iTRnKd"
   },
   "source": [
    "As shown, there are 42,000 training examples, and 28,000 testing examples. As described in the competition's homepage, these examples are 28px by 28px gray-scale images of hand-written digits. Therefore, there are 784 pixels total in each image, and thus 784 features. The last feature corresponds to the label, which in this case is the number the hand-written digit corresponds to. \n",
    "\n",
    "Each feature (or pixel) is represented by a value between 0 and 255, inclusive, which is the amount of light or dark in that specific pixel. Darker pixels have larger numbers.\n",
    "\n",
    "**Locating a pixel**\n",
    "\n",
    "Say we want to locate pixel $x$, where $0 \\leq x \\leq 783$. To do so, we have to use solve this equation: $$x = i * 28 + j$$ where $0 \\leq i \\leq 27$ and $0 \\leq j \\leq 27$. Here, $i$ refers to the $i^{th}$ row and $j$ refers to the $j^{th}$ column of a 28x28 pixel image. \n",
    "\n",
    "So, if I wanted to find the $543^{rd}$ pixel, I would find it on the $19^{th}$ row and $11^{th}$ column.\n",
    "\n",
    "\n",
    "--- \n",
    "Now, lets visualize the distributions of the data.\n",
    "\n",
    "## Looking at the training set\n",
    "\n",
    "Are there any missing values in the training set?"
   ]
  },
  {
   "cell_type": "code",
   "execution_count": 6,
   "metadata": {
    "colab": {
     "base_uri": "https://localhost:8080/",
     "height": 50
    },
    "colab_type": "code",
    "id": "WrUIO96lRnKe",
    "outputId": "b9e12d48-53e9-49a7-b00a-6f2ee5b49151"
   },
   "outputs": [
    {
     "name": "stdout",
     "output_type": "stream",
     "text": [
      "No. of missing labels: 0\n",
      "No. of missing pixels: 0\n"
     ]
    }
   ],
   "source": [
    "# Looking for missing labels\n",
    "print('No. of missing labels:', train_frame['label'].isnull().sum())\n",
    "\n",
    "# Looking for missing pixel values\n",
    "print('No. of missing pixels:', sum(train_frame.drop(columns = ['label']).isnull().sum()))"
   ]
  },
  {
   "cell_type": "markdown",
   "metadata": {
    "colab_type": "text",
    "id": "Bk_ABwCiRnKh"
   },
   "source": [
    "What does the distribution of labels look like? "
   ]
  },
  {
   "cell_type": "code",
   "execution_count": 7,
   "metadata": {
    "colab": {
     "base_uri": "https://localhost:8080/",
     "height": 403
    },
    "colab_type": "code",
    "id": "t4GH5HBeRnKi",
    "outputId": "ae66a351-ce92-4cf2-a864-e9f052e5537f"
   },
   "outputs": [
    {
     "data": {
      "image/png": "[encoded data removed]",
      "text/plain": [
       "<Figure size 720x432 with 1 Axes>"
      ]
     },
     "metadata": {
      "needs_background": "light"
     },
     "output_type": "display_data"
    }
   ],
   "source": [
    "fig, ax = plt.subplots(figsize = (10, 6))\n",
    "ax.set_title('Distribution of Labels - Training')\n",
    "sns.countplot(train_frame['label'])\n",
    "plt.show()"
   ]
  },
  {
   "cell_type": "markdown",
   "metadata": {
    "colab_type": "text",
    "id": "W7ogzyWtRnKl"
   },
   "source": [
    "As we can see, the training labels are equally distributed.\n",
    "\n",
    "\n",
    "Why do we care about this? \n",
    "\n",
    "An unbalanced dataset can cause many problems for our image classification model. If a large gap exists between the amount of labels, then the model would become biased, favoring the majority class by categorizing more images into that class. This will lead to a false sense of high accuracy. \n",
    "\n",
    "**Recall that accuracy is the amount of correct predictions over the total number of predictions**, which can be calculated by: $$\\frac{TP + TN}{N}$$ where $TP$ is the amount of true positives, $TN$ is the amount of true negatives, and $N$ is the total amount of observations. The model may seem to have a higher performance, but in reality it is just biased to the majority class and is just predicting that class only. \n",
    "\n",
    "For example, say there is a dataset of 100 observations, where 90 are labeled as `A`, and 10 are labeled as `B`. So, we have an unbalanced dataset. Now suppose we train a model on this dataset without taking the necessary precautions to deal with the imbalance. During training, our model would become increasingly biased towards `A`. Just by labeling observations as `A`, it would achieve an accuracy of 90%, giving off a false sense of achievement. As such, the model would just label new, unseen observations as `A` because it was biased towards the majority class during training. In other words, it would label new `B` observations as `A`, which is a **false negative i.e. an observation is `B` but is classified as `A`**.\n",
    "\n",
    "False negatives can be extremely costly depending on the situation. If `A` were people without a certain disease and `B` were people with that disease, then our biased classification model would lead to more false negatives. New patients would be told they don't have the disease when in fact they do, and this is extremely bad!"
   ]
  },
  {
   "cell_type": "markdown",
   "metadata": {
    "colab_type": "text",
    "id": "R57RLYPnRnKm"
   },
   "source": [
    "## Looking at the testing set\n",
    "\n",
    "Are there any missing values in the testing set?"
   ]
  },
  {
   "cell_type": "code",
   "execution_count": 8,
   "metadata": {
    "colab": {
     "base_uri": "https://localhost:8080/",
     "height": 33
    },
    "colab_type": "code",
    "id": "RB9Un7BERnKo",
    "outputId": "e3124549-a002-4032-9dfe-3b8d9fc2548d"
   },
   "outputs": [
    {
     "name": "stdout",
     "output_type": "stream",
     "text": [
      "No. of missing pixels: 0\n"
     ]
    }
   ],
   "source": [
    "# Looking for missing pixel values\n",
    "print('No. of missing pixels:', sum(test_frame.isnull().sum()))"
   ]
  },
  {
   "cell_type": "markdown",
   "metadata": {
    "colab_type": "text",
    "id": "a0LZpANaRnKr"
   },
   "source": [
    "Everything looks good! The data is clean right off the bat and I don't have to do much in terms of data cleaning.\n",
    "\n",
    "Now, let's see how we can preprocess the data for our model."
   ]
  },
  {
   "cell_type": "markdown",
   "metadata": {
    "colab_type": "text",
    "id": "_otzmTzXRnKs"
   },
   "source": [
    "# Preprocessing the Data\n",
    "\n",
    "Before we feed the data into our model, it would help to normalize the image by scaling down the pixels.\n",
    "\n",
    "This will be completed by `torchvision.transforms.ToTensor()`, which creates a normalized tensor with ranges [0, 1] for a PIL.Image.\n",
    "\n",
    "More of this will be explained below when I create my dataset.\n",
    "\n",
    "Why do we normalize?\n",
    "\n",
    "Normalization allows us to scale the values down to a common scale, without distorting the range of the values. Previously, the pixel values ranged from 0 to 255 inclusively. This would mean that some pixels, such as the white space around the image, would have a value of 0, whereas the places where the digit was drawn would have values closer to 255. In other words, a large gap would exist between these pixel values. This makes convergence faster, as it would be easier for the model to calibrate the features. \n"
   ]
  },
  {
   "cell_type": "markdown",
   "metadata": {
    "colab_type": "text",
    "id": "wCzlpHozRnK8"
   },
   "source": [
    "# Cross-Validation\n",
    "\n",
    "I will now use sklearn to split the training data into a training and validation set, which will allow me to evaluate how well the model is performing mid-training by testing it on the validation set.\n",
    "\n",
    "I will use 80% for training, and 10% as the validation set."
   ]
  },
  {
   "cell_type": "code",
   "execution_count": 9,
   "metadata": {
    "colab": {},
    "colab_type": "code",
    "id": "RD_OPowURnK9",
    "scrolled": true
   },
   "outputs": [],
   "source": [
    "# Splitting into training and validation set\n",
    "X_train, X_val, y_train, y_val = train_test_split(train_frame.drop(columns = ['label']), train_frame['label'], \n",
    "                                                  test_size = 0.1, random_state = 42)\n"
   ]
  },
  {
   "cell_type": "markdown",
   "metadata": {
    "colab_type": "text",
    "id": "wO2LgegNRnK_"
   },
   "source": [
    "# The Model\n",
    "\n",
    "Below, I start the process of making my CNN model.\n",
    "Again, I use PyTorch as my framework.\n",
    "Firstly, I have to create Torch tensors of my training features and labels.\n",
    "\n",
    "PyTorch has its own data loading utility which represents a Python iterable over a dataset. Below, I create the training and testing datasets, as well as the DataLoaders, which will help provide the iterable over the dataset. \n",
    "\n",
    "Since I want to use data augmentation in my images, I will create a new Dataset class that allows for data augmentation. [This GitHub repo](https://github.com/utkuozbulak/pytorch-custom-dataset-examples) is an excellent resource for creating custom PyTorch datasets."
   ]
  },
  {
   "cell_type": "markdown",
   "metadata": {
    "colab_type": "text",
    "id": "CbBpWFSlRnLB"
   },
   "source": [
    "I also define other variables: the batch size and number of epochs.\n",
    "Each of these affects the model training time and performance.\n",
    "\n",
    "**Batch size** - The number of training samples to use in one iteration of training.\n",
    "\n",
    "**Epoch** - The amount of times to feed all batches exactly once. This is equivalent to showing your model all of the training data once."
   ]
  },
  {
   "cell_type": "code",
   "execution_count": 64,
   "metadata": {
    "colab": {
     "base_uri": "https://localhost:8080/",
     "height": 33
    },
    "colab_type": "code",
    "id": "CypVIEg9RnLD",
    "outputId": "ce73c4ba-1581-4243-ee32-865e6e08b41b"
   },
   "outputs": [
    {
     "name": "stdout",
     "output_type": "stream",
     "text": [
      "No. of epochs: 25\n"
     ]
    }
   ],
   "source": [
    "batch_size = 120\n",
    "n_iters = 8000\n",
    "num_epochs = int(n_iters / (len(X_train) / batch_size))\n",
    "\n",
    "print('No. of epochs:', num_epochs)"
   ]
  },
  {
   "cell_type": "code",
   "execution_count": 65,
   "metadata": {
    "colab": {},
    "colab_type": "code",
    "id": "FaYZB0zNRnLG"
   },
   "outputs": [],
   "source": [
    "class MyDataset(torch.utils.data.Dataset):\n",
    "    \"\"\"\n",
    "    An implementation of a PyTorch Dataset that will be used for the hand-written digits and\n",
    "    allow for data augmentation.\n",
    "    \"\"\"\n",
    "    def __init__(self, features, targets, transforms = None):\n",
    "        \"\"\"\n",
    "        Args:\n",
    "            features (DataFrame): DataFrame of pixel values\n",
    "            targets (DataFrame): Series corresponding to the labels of each observation\n",
    "            transform: PyTorch transforms for data augmentation and tensor conversion\n",
    "        \"\"\"\n",
    "        self.data = features\n",
    "        self.labels = targets\n",
    "        self.transforms = transforms\n",
    "        \n",
    "    def __getitem__(self, index):\n",
    "        \"\"\"\n",
    "        Retrieves an observation from the Dataset.\n",
    "        \n",
    "        Args:\n",
    "            index (int): The index of the selected observation.\n",
    "        \"\"\"\n",
    "        image_label = self.labels.iloc[index]\n",
    "        image_arr = self.data.iloc[index].values.reshape(28, 28)\n",
    "        \n",
    "        # Convert image from numpy array to PIL image, mode 'L' for grayscale\n",
    "        image_as_image = Image.fromarray(image_arr).convert('L')\n",
    "        \n",
    "        # Transform image\n",
    "        if self.transforms is not None:\n",
    "            image_as_tensor = self.transforms(image_as_image)\n",
    "        \n",
    "        # Return image and label\n",
    "        if torch.cuda.is_available():\n",
    "            return(image_as_tensor.cuda(), image_label)\n",
    "        return(image_as_tensor, image_label)\n",
    "    \n",
    "    def __len__(self):\n",
    "        \"\"\"\n",
    "        Returns the length of the dataset.\n",
    "        \"\"\"\n",
    "        return self.data.shape[0]"
   ]
  },
  {
   "cell_type": "code",
   "execution_count": 66,
   "metadata": {
    "colab": {},
    "colab_type": "code",
    "id": "0yRU6Ao8RnLJ"
   },
   "outputs": [],
   "source": [
    "# Define transformations\n",
    "transformations = transforms.Compose([transforms.RandomPerspective(),\n",
    "                                      transforms.RandomRotation(20), \n",
    "                                      transforms.ToTensor()])\n",
    "val_test_transformations = transforms.Compose([transforms.ToTensor()])\n",
    "\n",
    "# Define training set\n",
    "myDataset = MyDataset(X_train, y_train, transformations)\n",
    "my_train_loader = torch.utils.data.DataLoader(dataset = myDataset, \n",
    "                                              batch_size = batch_size, shuffle = False)\n",
    "\n",
    "# Same for validation set\n",
    "myValDataset = MyDataset(X_val, y_val, val_test_transformations)\n",
    "my_val_loader = torch.utils.data.DataLoader(dataset = myValDataset, \n",
    "                                              batch_size = batch_size, shuffle = False)"
   ]
  },
  {
   "cell_type": "markdown",
   "metadata": {
    "colab_type": "text",
    "id": "WoUDfGm0RnLA"
   },
   "source": [
    "## Building a CNN\n",
    "\n",
    "CNNs are well-known for their ability to classify images, and are a special kind of multi-layer neural network. An image below, provided by [this tutorial](https://www.kaggle.com/pouryaayria/convolutional-neural-networks-tutorial-tensorflow) explains how a CNN works. As for the architecture, I was inspired by [this Github LeNet implementation](https://github.com/activatedgeek/LeNet-5).\n",
    "\n",
    "![image.png](attachment:image.png)\n",
    "\n",
    "There are many steps I have to take to build a CNN. These include specifiying different layers, which I describe more in-depth below.\n",
    "\n",
    "### Convolutional Layers\n",
    "\n",
    "These layers, from which CNNs are known for, are responsible for transforming the image and for creating the feature maps, which help to isolate certain characteristics of the image. After applying this filter, the dimensionality of the image decreases, seen by the middle grid in the above image. So, we apply zero-padding to increase the dimensionality of the feature map after the convolutional layer in order to preserve as much information. \n",
    "\n",
    "These layers also require an activation function. In this case, I use `relu` as the activation function, which is $max(0, x)$. This adds non-linearity to the network.\n",
    "\n",
    "### Pooling Layer\n",
    "\n",
    "The pooling layer prepares a condensed feature map from the output of the convolutional layers. In other words, it acts as a downsampling filter, reducing computational cost and overfitting. \n",
    "\n",
    "Combined with the Convolutional Layers, the CNN is know able to combine local features and learn about more global features of the image.\n",
    "\n",
    "### Dropout Layer\n",
    "The dropout layer regularizes training, where are proportion of certain nodes in a layer are randomly ignored (which, mathematically, means setting their weights to 0). By dropping a random proportion of the network, the model is forced to learn features in a more distributed way. It also improves generalization and helps prevent overfitting.\n",
    "\n",
    "\n",
    "### Flattening Layer\n",
    "This layer flattens the feature map, and converts the final feature maps into one single 1D vector. This helps us to actually use the fully-connected layers, and serves to combine all the found local features of the previous convolutional layers.\n",
    "\n",
    "\n",
    "### Dense/ Fully-Connected Layers\n",
    "Dense, otherwise known as fully-connected layers, are just ANN classifiers, and will help output the probabilities of each class in the dataset.\n",
    "\n",
    "In order to do all of this, I create my own class to implement a CNN."
   ]
  },
  {
   "cell_type": "code",
   "execution_count": 67,
   "metadata": {
    "colab": {},
    "colab_type": "code",
    "id": "cJe0uwGqRnLL"
   },
   "outputs": [],
   "source": [
    "# Create CNN Model\n",
    "class CNNModel(nn.Module):\n",
    "    def __init__(self):\n",
    "        super(CNNModel, self).__init__()\n",
    "        \n",
    "        # Convnet\n",
    "        self.conv1 = nn.Conv2d(in_channels = 1, out_channels = 16, kernel_size = 5, stride = 1)\n",
    "        \n",
    "        self.conv2 = nn.Conv2d(in_channels = 16, out_channels = 64, kernel_size = 5, stride = 1)\n",
    "        \n",
    "        self.conv3 = nn.Conv2d(in_channels = 64, out_channels = 120, kernel_size = 4, stride = 1)\n",
    "        \n",
    "        self.relu = nn.ReLU()\n",
    "        self.maxpool1 = nn.MaxPool2d(kernel_size = 2, stride = 2)\n",
    "        self.dropout1 = nn.Dropout2d(p = 0.25)\n",
    "        \n",
    "        # FC net\n",
    "        self.fc1 = nn.Linear(120, 84)\n",
    "        self.fc2 = nn.Linear(84, 10)\n",
    "        self.readout = nn.LogSoftmax(dim = -1)\n",
    "    \n",
    "    def forward(self, x):\n",
    "        out = self.conv1(x)\n",
    "        out = self.relu(out)\n",
    "\n",
    "        out = self.maxpool1(out)\n",
    "        out = self.dropout1(out)\n",
    "        \n",
    "        out = self.conv2(out)\n",
    "        out = self.relu(out)\n",
    "        \n",
    "        out = self.maxpool1(out)\n",
    "        out = self.dropout1(out)\n",
    "\n",
    "        out = self.conv3(out)\n",
    "        out = self.relu(out)\n",
    "        \n",
    "        # Flatten\n",
    "        out = out.view(out.size(0), -1)\n",
    "        \n",
    "        # Readout\n",
    "        out = self.fc1(out)\n",
    "        out = self.relu(out)\n",
    "        out = self.fc2(out)\n",
    "        out = self.readout(out)\n",
    "        \n",
    "        return out"
   ]
  },
  {
   "cell_type": "code",
   "execution_count": 93,
   "metadata": {
    "colab": {},
    "colab_type": "code",
    "id": "MGm572bIRnLN",
    "scrolled": true
   },
   "outputs": [
    {
     "name": "stdout",
     "output_type": "stream",
     "text": [
      "CNNModel(\n",
      "  (conv1): Conv2d(1, 16, kernel_size=(5, 5), stride=(1, 1))\n",
      "  (conv2): Conv2d(16, 64, kernel_size=(5, 5), stride=(1, 1))\n",
      "  (conv3): Conv2d(64, 120, kernel_size=(4, 4), stride=(1, 1))\n",
      "  (relu): ReLU()\n",
      "  (maxpool1): MaxPool2d(kernel_size=2, stride=2, padding=0, dilation=1, ceil_mode=False)\n",
      "  (dropout1): Dropout2d(p=0.25, inplace=False)\n",
      "  (fc1): Linear(in_features=120, out_features=84, bias=True)\n",
      "  (fc2): Linear(in_features=84, out_features=10, bias=True)\n",
      "  (readout): LogSoftmax()\n",
      ")\n"
     ]
    }
   ],
   "source": [
    "model = CNNModel()\n",
    "\n",
    "if torch.cuda.is_available():\n",
    "    model.cuda()\n",
    "\n",
    "# Cross Entropy Loss \n",
    "error = nn.CrossEntropyLoss()\n",
    "\n",
    "# RMS Optimizer\n",
    "learning_rate = 0.0008\n",
    "optimizer = torch.optim.RMSprop(model.parameters(), lr=learning_rate)\n",
    "\n",
    "print(model)"
   ]
  },
  {
   "cell_type": "code",
   "execution_count": 94,
   "metadata": {},
   "outputs": [
    {
     "name": "stdout",
     "output_type": "stream",
     "text": [
      "tensor(10.)\n"
     ]
    }
   ],
   "source": [
    "for train_images, train_labels in my_train_loader:\n",
    "    train_tensor = Variable(train_images.view(batch_size, 1, 28, 28))\n",
    "    train_labels = Variable(train_labels)\n",
    "    optimizer.zero_grad()\n",
    "    outputs = model(train_tensor)\n",
    "    loss = error(outputs, train_labels.long())\n",
    "    loss.backward()\n",
    "    optimizer.step()\n",
    "    \n",
    "    # Validate accuracy\n",
    "    correct = 0\n",
    "    total = 0\n",
    "    for val_images, val_labels in my_val_loader:\n",
    "        val_tensor = Variable(val_images.view(batch_size, 1, 28, 28))\n",
    "        val_outputs = model(val_tensor)\n",
    "        predicted = torch.max(val_outputs.data, 1)[1]\n",
    "        total += len(val_labels)\n",
    "        correct += (predicted == val_labels).sum()\n",
    "        break\n",
    "    \n",
    "    print(100 * correct / float(total))\n",
    "    \n",
    "    break"
   ]
  },
  {
   "cell_type": "markdown",
   "metadata": {
    "colab_type": "text",
    "id": "R7BBvAQyRnLW"
   },
   "source": [
    "## Model Training"
   ]
  },
  {
   "cell_type": "code",
   "execution_count": 95,
   "metadata": {
    "colab": {
     "base_uri": "https://localhost:8080/",
     "height": 472
    },
    "colab_type": "code",
    "id": "J4yGTyA4RnLX",
    "outputId": "ee9b8ff8-88a5-4737-b106-f0e5ee88971a"
   },
   "outputs": [
    {
     "name": "stdout",
     "output_type": "stream",
     "text": [
      "Epoch: 1  Iteration: 500  Loss: 0.23901362717151642  Accuracy: 96.57142639160156 %\n",
      "Epoch: 3  Iteration: 1000  Loss: 0.2248857021331787  Accuracy: 97.16666412353516 %\n",
      "Epoch: 4  Iteration: 1500  Loss: 0.19315151870250702  Accuracy: 98.0 %\n",
      "Epoch: 6  Iteration: 2000  Loss: 0.1481603980064392  Accuracy: 98.30952453613281 %\n",
      "Epoch: 7  Iteration: 2500  Loss: 0.11543869972229004  Accuracy: 98.26190185546875 %\n",
      "Epoch: 9  Iteration: 3000  Loss: 0.04727736860513687  Accuracy: 98.30952453613281 %\n",
      "Epoch: 11  Iteration: 3500  Loss: 0.13298310339450836  Accuracy: 98.57142639160156 %\n",
      "Epoch: 12  Iteration: 4000  Loss: 0.18789292871952057  Accuracy: 98.57142639160156 %\n",
      "Epoch: 14  Iteration: 4500  Loss: 0.0681610256433487  Accuracy: 98.78571319580078 %\n",
      "Epoch: 15  Iteration: 5000  Loss: 0.12063993513584137  Accuracy: 98.66666412353516 %\n",
      "Epoch: 17  Iteration: 5500  Loss: 0.04733846336603165  Accuracy: 98.4047622680664 %\n",
      "Epoch: 19  Iteration: 6000  Loss: 0.12049396336078644  Accuracy: 98.69047546386719 %\n",
      "Epoch: 20  Iteration: 6500  Loss: 0.031323857605457306  Accuracy: 98.71428680419922 %\n",
      "Epoch: 22  Iteration: 7000  Loss: 0.07307694107294083  Accuracy: 98.78571319580078 %\n",
      "Epoch: 23  Iteration: 7500  Loss: 0.13512229919433594  Accuracy: 99.07142639160156 %\n"
     ]
    }
   ],
   "source": [
    "# CNN model training\n",
    "count = 0\n",
    "loss_list = []\n",
    "iteration_list = []\n",
    "accuracy_list = []\n",
    "\n",
    "for epoch in range(num_epochs):\n",
    "    \n",
    "    for train_images, train_labels in my_train_loader:\n",
    "        train_images_tensor = Variable(train_images.view(batch_size, 1, 28, 28))\n",
    "        train_labels_tensor = Variable(train_labels)\n",
    "        \n",
    "        if torch.cuda.is_available():\n",
    "            train_labels_tensor = train_labels_tensor.cuda()\n",
    "        \n",
    "        # Clear gradients\n",
    "        optimizer.zero_grad()\n",
    "        \n",
    "        # Forward propagation\n",
    "        train_outputs = model(train_images_tensor)\n",
    "        \n",
    "        # Calculate softmax and ross entropy loss\n",
    "        if torch.cuda.is_available():\n",
    "            loss = error(train_outputs, train_labels_tensor.long().cuda())\n",
    "        else:\n",
    "            loss = error(train_outputs, train_labels_tensor.long())\n",
    "        \n",
    "        # Calculating gradients\n",
    "        loss.backward()\n",
    "        \n",
    "        # Update parameters\n",
    "        optimizer.step()\n",
    "        count += 1\n",
    "        \n",
    "        # Validate accuracy at every step divisible by 50\n",
    "        if count % 50 == 0:\n",
    "            correct = 0\n",
    "            total = 0\n",
    "            \n",
    "            # Iterate through validation dataset\n",
    "            for val_images, val_labels in my_val_loader:\n",
    "                \n",
    "                test_images_tensor = Variable(val_images.view(batch_size, 1, 28, 28))\n",
    "                \n",
    "                # Forward propagation\n",
    "                val_outputs = model(test_images_tensor)\n",
    "                \n",
    "                # Get predictions from the maximum value\n",
    "                val_predictions = torch.max(val_outputs.data, 1)[1]\n",
    "                \n",
    "                # Total number of labels\n",
    "                total += len(val_labels)\n",
    "                \n",
    "                if torch.cuda.is_available():\n",
    "                    correct += (val_predictions == val_labels.cuda()).sum()\n",
    "                else:\n",
    "                    correct += (val_predictions == val_labels).sum()\n",
    "            \n",
    "            # Calculate Accuracy         \n",
    "            accuracy = 100 * correct / float(total)\n",
    "            \n",
    "            # store loss and iteration\n",
    "            loss_list.append(loss.data)\n",
    "            iteration_list.append(count)\n",
    "            accuracy_list.append(accuracy)\n",
    "                \n",
    "            # Print Loss\n",
    "            if count % 500 == 0:\n",
    "                print('Epoch: {}  Iteration: {}  Loss: {}  Accuracy: {} %'.format(epoch, count, loss.data.item(), accuracy))\n",
    "            \n",
    "            # Save checkpoint\n",
    "            torch.save({\n",
    "                'epoch': epoch,\n",
    "                'model_state_dict': model.state_dict(),\n",
    "                'optimizer_state_dict': optimizer.state_dict(),\n",
    "                'loss_list': loss_list,\n",
    "                'accuracy_list': accuracy_list\n",
    "            }, './model/checkpoint_' + str(epoch) + '.pt')"
   ]
  },
  {
   "cell_type": "code",
   "execution_count": 96,
   "metadata": {
    "colab": {},
    "colab_type": "code",
    "id": "92m4W239RnLa"
   },
   "outputs": [],
   "source": [
    "# Save model\n",
    "torch.save(model.state_dict(), './model/final_saved_model_{}_{}_{}.pt'.format(learning_rate, batch_size, epoch))"
   ]
  },
  {
   "cell_type": "markdown",
   "metadata": {
    "colab_type": "text",
    "id": "NQCCoDeNRnLc"
   },
   "source": [
    "## Visualizing Model Performance"
   ]
  },
  {
   "cell_type": "code",
   "execution_count": 97,
   "metadata": {
    "colab": {
     "base_uri": "https://localhost:8080/",
     "height": 588
    },
    "colab_type": "code",
    "id": "jMiFzk5tRnLd",
    "outputId": "0bbbf81d-27a6-4132-e150-7e3d88439bdf",
    "scrolled": false
   },
   "outputs": [
    {
     "data": {
      "image/png": "[encoded data removed]",
      "text/plain": [
       "<Figure size 432x288 with 1 Axes>"
      ]
     },
     "metadata": {
      "needs_background": "light"
     },
     "output_type": "display_data"
    },
    {
     "data": {
      "image/png": "[encoded data removed]",
      "text/plain": [
       "<Figure size 432x288 with 1 Axes>"
      ]
     },
     "metadata": {
      "needs_background": "light"
     },
     "output_type": "display_data"
    },
    {
     "data": {
      "text/plain": [
       "<Figure size 432x288 with 0 Axes>"
      ]
     },
     "metadata": {},
     "output_type": "display_data"
    }
   ],
   "source": [
    "# visualization loss \n",
    "plt.plot(iteration_list,loss_list)\n",
    "plt.xlabel(\"Number of iteration\")\n",
    "plt.ylabel(\"Loss\")\n",
    "plt.title(\"CNN: Loss vs Number of iteration\")\n",
    "plt.show()\n",
    "plt.savefig('./model/CNN_Loss_RMSProp_{}.png'.format(learning_rate))\n",
    "\n",
    "# visualization accuracy \n",
    "plt.plot(iteration_list,accuracy_list,color = \"red\")\n",
    "plt.xlabel(\"Number of iteration\")\n",
    "plt.ylabel(\"Accuracy\")\n",
    "plt.title(\"CNN: Accuracy vs Number of iteration\")\n",
    "plt.show()\n",
    "plt.savefig('./model/CNN_Acc_RMSProp_{}.png'.format(learning_rate))"
   ]
  },
  {
   "cell_type": "markdown",
   "metadata": {
    "colab_type": "text",
    "id": "QHHYtY3KRnLf"
   },
   "source": [
    "## Evaluating on Validation Set"
   ]
  },
  {
   "cell_type": "code",
   "execution_count": 98,
   "metadata": {
    "colab": {},
    "colab_type": "code",
    "id": "G3rrymvWRnLg"
   },
   "outputs": [],
   "source": [
    "correct = 0\n",
    "total = 0\n",
    "for images, labels in my_val_loader:\n",
    "    tensors = Variable(images.view(batch_size, 1, 28, 28))\n",
    "    outputs = model(tensors)\n",
    "    predicted = torch.max(outputs.data, 1)[1]\n",
    "    total += len(labels)\n",
    "    if(torch.cuda.is_available()):\n",
    "        correct += (predicted == labels.cuda()).sum()\n",
    "    else:\n",
    "        correct += (predicted == labels).sum()\n",
    "accuracy = 100 * correct / float(total)"
   ]
  },
  {
   "cell_type": "code",
   "execution_count": 99,
   "metadata": {
    "colab": {
     "base_uri": "https://localhost:8080/",
     "height": 33
    },
    "colab_type": "code",
    "id": "NcalW1UqRnLj",
    "outputId": "8637f263-833d-43c2-be53-fca4d4699c28"
   },
   "outputs": [
    {
     "name": "stdout",
     "output_type": "stream",
     "text": [
      "Validation Accuracy: 98.80952453613281\n"
     ]
    }
   ],
   "source": [
    "print('Validation Accuracy:', accuracy.item())"
   ]
  },
  {
   "cell_type": "markdown",
   "metadata": {
    "colab_type": "text",
    "id": "cRFUUjzvRnLm"
   },
   "source": [
    "## Submitting Model Predictions"
   ]
  },
  {
   "cell_type": "code",
   "execution_count": 100,
   "metadata": {
    "colab": {},
    "colab_type": "code",
    "id": "nceNHduaclZ4"
   },
   "outputs": [],
   "source": [
    "test = pd.read_csv('./data/test.csv', dtype = np.float32)\n",
    "test_tensor = torch.from_numpy(test.values)\n",
    "test_data = torch.utils.data.TensorDataset(test_tensor)\n",
    "test_loader = torch.utils.data.DataLoader(test_data, batch_size = batch_size, shuffle = False)"
   ]
  },
  {
   "cell_type": "code",
   "execution_count": 101,
   "metadata": {
    "colab": {},
    "colab_type": "code",
    "id": "84cFQukARnLu"
   },
   "outputs": [],
   "source": [
    "predictions = []\n",
    "for i, images in enumerate(test_loader):\n",
    "    image_tensors = Variable(images[0].view(images[0].size(0), 1, 28, 28))\n",
    "    if torch.cuda.is_available():\n",
    "        outputs = model(image_tensors.cuda())\n",
    "    else:\n",
    "        outputs = model(image_tensors)\n",
    "    predicted = torch.max(outputs.data, 1)[1]\n",
    "    predictions.append(predicted)"
   ]
  },
  {
   "cell_type": "code",
   "execution_count": 102,
   "metadata": {
    "colab": {},
    "colab_type": "code",
    "id": "Yl9c8yWtRnLy"
   },
   "outputs": [],
   "source": [
    "# predictions is a list of tensors\n",
    "# There are 280 tensors\n",
    "# Each tensor is a size of 100, representing the prediction for the image.\n",
    "# 280 * 100 = 28000, which is how many observations there are in the original test dataset\n",
    "# So, append all tensors together, and we have our list of predictions\n",
    "final_predicted_values = []\n",
    "for tensor in predictions:\n",
    "    # Convert tensor to a list\n",
    "    tensor_list = tensor.data.tolist()\n",
    "    \n",
    "    # Append to values list\n",
    "    final_predicted_values = final_predicted_values + tensor_list"
   ]
  },
  {
   "cell_type": "code",
   "execution_count": 103,
   "metadata": {
    "colab": {},
    "colab_type": "code",
    "id": "g5sy-betRnL4"
   },
   "outputs": [],
   "source": [
    "# Submit as a DataFrame with Id and Label (predicted)\n",
    "submissions = {\n",
    "    'ImageId': range(1, 28001),\n",
    "    'Label': final_predicted_values\n",
    "}\n",
    "\n",
    "submissions_df = pd.DataFrame(submissions)\n",
    "submissions_df.to_csv('my_submission.csv', index = False)"
   ]
  },
  {
   "cell_type": "code",
   "execution_count": null,
   "metadata": {},
   "outputs": [],
   "source": []
  }
 ],
 "metadata": {
  "accelerator": "GPU",
  "colab": {
   "collapsed_sections": [],
   "name": "DigitRecognizer.ipynb",
   "provenance": [],
   "toc_visible": true
  },
  "kernelspec": {
   "display_name": "Python 3",
   "language": "python",
   "name": "python3"
  },
  "language_info": {
   "codemirror_mode": {
    "name": "ipython",
    "version": 3
   },
   "file_extension": ".py",
   "mimetype": "text/x-python",
   "name": "python",
   "nbconvert_exporter": "python",
   "pygments_lexer": "ipython3",
   "version": "3.7.6"
  }
 },
 "nbformat": 4,
 "nbformat_minor": 1
}
