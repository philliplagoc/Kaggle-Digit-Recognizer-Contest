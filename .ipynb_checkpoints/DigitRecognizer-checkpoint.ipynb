{
 "cells": [
  {
   "cell_type": "markdown",
   "metadata": {},
   "source": [
    "# Introduction\n",
    "\n",
    "This is my entry for Kaggle's [Digit Recognizer Competition](https://www.kaggle.com/c/digit-recognizer). \n",
    "In this challenge, I will use computer vision techniques, more specifically image classification, to build a model to recognize hand-written digits from the famous MNIST dataset. \n",
    "To help me achieve this, I will use [Dr. Ghouzam's notebook](https://www.kaggle.com/yassineghouzam/introduction-to-cnn-keras-0-997-top-6) as well as [DataAI's notebook](https://www.kaggle.com/kanncaa1/recurrent-neural-network-with-pytorch/data#INTRODUCTION) to build a model in PyTorch to compete in this competition."
   ]
  }
 ],
 "metadata": {
  "kernelspec": {
   "display_name": "Python 3",
   "language": "python",
   "name": "python3"
  },
  "language_info": {
   "codemirror_mode": {
    "name": "ipython",
    "version": 3
   },
   "file_extension": ".py",
   "mimetype": "text/x-python",
   "name": "python",
   "nbconvert_exporter": "python",
   "pygments_lexer": "ipython3",
   "version": "3.7.3"
  }
 },
 "nbformat": 4,
 "nbformat_minor": 2
}
